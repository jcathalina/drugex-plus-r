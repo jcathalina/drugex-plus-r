{
 "cells": [
  {
   "cell_type": "code",
   "execution_count": 1,
   "id": "99e623d1-64e6-42dc-ad0e-3cf0f2642ff1",
   "metadata": {},
   "outputs": [
    {
     "name": "stderr",
     "output_type": "stream",
     "text": [
      "2021-12-14 21:59:05.492264: I tensorflow/stream_executor/platform/default/dso_loader.cc:53] Successfully opened dynamic library libcudart.so.11.0\n"
     ]
    }
   ],
   "source": [
    "from src.drugexr.models.generator import Generator\n",
    "from src.drugexr.data_structs.vocabulary import Vocabulary\n",
    "from src.drugexr.config import constants as c"
   ]
  },
  {
   "cell_type": "code",
   "execution_count": 2,
   "id": "bfbc78a3-a69a-44d1-b4d0-6d0cd2546394",
   "metadata": {},
   "outputs": [],
   "source": [
    "path_to_voc = c.PROC_DATA_PATH / \"chembl_voc.txt\""
   ]
  },
  {
   "cell_type": "code",
   "execution_count": 3,
   "id": "a5a6385b-6ec8-451e-88cb-11a9cbea53e3",
   "metadata": {},
   "outputs": [],
   "source": [
    "voc = Vocabulary(vocabulary_path=path_to_voc)"
   ]
  },
  {
   "cell_type": "code",
   "execution_count": 4,
   "id": "e80ee3d5-7ec2-408b-b677-33d031dcce99",
   "metadata": {},
   "outputs": [],
   "source": [
    "gen = Generator(vocabulary=voc)"
   ]
  },
  {
   "cell_type": "code",
   "execution_count": 5,
   "id": "8df8bd07-6516-4199-93c1-7176168062aa",
   "metadata": {},
   "outputs": [],
   "source": [
    "import torch\n",
    "import pytorch_lightning as pl\n",
    "from torch.utils.data import DataLoader\n",
    "import pandas as pd"
   ]
  },
  {
   "cell_type": "code",
   "execution_count": 6,
   "id": "f3552666-c74f-4208-ab97-97c969e3c158",
   "metadata": {},
   "outputs": [],
   "source": [
    "chembl = pd.read_table(c.PROC_DATA_PATH / \"chembl_corpus_DEV_1000.txt\").Token\n",
    "chembl = torch.LongTensor(voc.encode([seq.split(\" \") for seq in chembl]))\n",
    "train_loader = DataLoader(chembl, batch_size=512, shuffle=True, drop_last=True)\n",
    "del chembl"
   ]
  },
  {
   "cell_type": "code",
   "execution_count": 7,
   "id": "ceac6969-384e-4ef6-a440-eabe33f6b450",
   "metadata": {},
   "outputs": [
    {
     "name": "stderr",
     "output_type": "stream",
     "text": [
      "GPU available: True, used: False\n",
      "TPU available: False, using: 0 TPU cores\n",
      "IPU available: False, using: 0 IPUs\n",
      "/home/s1493523/miniconda3/envs/drugexr/lib/python3.7/site-packages/pytorch_lightning/trainer/trainer.py:1580: UserWarning: GPU available but not used. Set the gpus flag in your trainer `Trainer(gpus=1)` or script `--gpus=1`.\n",
      "  \"GPU available but not used. Set the gpus flag in your trainer `Trainer(gpus=1)` or script `--gpus=1`.\"\n"
     ]
    }
   ],
   "source": [
    "trainer = pl.Trainer(log_every_n_steps=1)"
   ]
  },
  {
   "cell_type": "code",
   "execution_count": null,
   "id": "1bee4fbd-e3bb-4eb8-97fa-a24f0e152fc6",
   "metadata": {},
   "outputs": [
    {
     "name": "stderr",
     "output_type": "stream",
     "text": [
      "\n",
      "  | Name   | Type      | Params\n",
      "-------------------------------------\n",
      "0 | embed  | Embedding | 11.0 K\n",
      "1 | rnn    | LSTM      | 5.5 M \n",
      "2 | linear | Linear    | 44.1 K\n",
      "-------------------------------------\n",
      "5.6 M     Trainable params\n",
      "0         Non-trainable params\n",
      "5.6 M     Total params\n",
      "22.290    Total estimated model params size (MB)\n",
      "/home/s1493523/miniconda3/envs/drugexr/lib/python3.7/site-packages/pytorch_lightning/trainer/data_loading.py:112: UserWarning: The dataloader, train_dataloader, does not have many workers which may be a bottleneck. Consider increasing the value of the `num_workers` argument` (try 24 which is the number of cpus on this machine) in the `DataLoader` init to improve performance.\n",
      "  f\"The dataloader, {name}, does not have many workers which may be a bottleneck.\"\n"
     ]
    },
    {
     "data": {
      "application/vnd.jupyter.widget-view+json": {
       "model_id": "733d9303697945378fd32817c8bd1f23",
       "version_major": 2,
       "version_minor": 0
      },
      "text/plain": [
       "Training: 0it [00:00, ?it/s]"
      ]
     },
     "metadata": {},
     "output_type": "display_data"
    }
   ],
   "source": [
    "trainer.fit(model=gen, train_dataloaders=train_loader)"
   ]
  },
  {
   "cell_type": "code",
   "execution_count": null,
   "id": "41a2da33-04f9-4b3d-95dd-cc745627aee8",
   "metadata": {},
   "outputs": [],
   "source": []
  }
 ],
 "metadata": {
  "kernelspec": {
   "display_name": "Python 3 (ipykernel)",
   "language": "python",
   "name": "python3"
  },
  "language_info": {
   "codemirror_mode": {
    "name": "ipython",
    "version": 3
   },
   "file_extension": ".py",
   "mimetype": "text/x-python",
   "name": "python",
   "nbconvert_exporter": "python",
   "pygments_lexer": "ipython3",
   "version": "3.7.12"
  }
 },
 "nbformat": 4,
 "nbformat_minor": 5
}
