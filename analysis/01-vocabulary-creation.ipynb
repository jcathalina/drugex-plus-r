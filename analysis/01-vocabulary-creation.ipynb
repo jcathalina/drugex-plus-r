{
 "cells": [
  {
   "cell_type": "code",
   "execution_count": 5,
   "metadata": {},
   "outputs": [],
   "source": [
    "from drugexr.data_structs.vocabulary import Vocabulary\n",
    "from pyprojroot import here"
   ]
  },
  {
   "cell_type": "code",
   "execution_count": 6,
   "metadata": {},
   "outputs": [],
   "source": [
    "root = here(project_files=[\".here\"])\n",
    "vocabulary_path = root / \"data/processed/vocabulary.txt\""
   ]
  },
  {
   "cell_type": "code",
   "execution_count": 7,
   "metadata": {
    "pycharm": {
     "name": "#%%\n"
    }
   },
   "outputs": [],
   "source": [
    "voc = Vocabulary(vocabulary_path)"
   ]
  },
  {
   "cell_type": "code",
   "execution_count": 17,
   "metadata": {},
   "outputs": [],
   "source": [
    "fp = voc.calc_voc_fp(smiles=\"CN1C=NC2=C1C(=O)N(C(=O)N2C)C\")"
   ]
  },
  {
   "cell_type": "code",
   "execution_count": 19,
   "metadata": {},
   "outputs": [
    {
     "data": {
      "text/plain": [
       "(28, 100)"
      ]
     },
     "execution_count": 19,
     "metadata": {},
     "output_type": "execute_result"
    }
   ],
   "source": [
    "fp.shape"
   ]
  },
  {
   "cell_type": "code",
   "execution_count": 23,
   "metadata": {},
   "outputs": [],
   "source": [
    "from rdkit.Chem import MolToSmiles, MolFromSmiles"
   ]
  },
  {
   "cell_type": "code",
   "execution_count": 24,
   "metadata": {},
   "outputs": [
    {
     "name": "stderr",
     "output_type": "stream",
     "text": [
      "RDKit ERROR: [22:19:18] SMILES Parse Error: syntax error while parsing: asdasds\n",
      "RDKit ERROR: [22:19:18] SMILES Parse Error: Failed parsing SMILES 'asdasds' for input: 'asdasds'\n",
      "[22:19:18] SMILES Parse Error: syntax error while parsing: asdasds\n",
      "[22:19:18] SMILES Parse Error: Failed parsing SMILES 'asdasds' for input: 'asdasds'\n"
     ]
    }
   ],
   "source": [
    "MolFromSmiles(\"asdasds\")"
   ]
  },
  {
   "cell_type": "code",
   "execution_count": 29,
   "metadata": {},
   "outputs": [],
   "source": [
    "def safe_mfs(smiles: str):\n",
    "    try:\n",
    "        MolFromSmiles(smiles)\n",
    "    except Exception:\n",
    "        print(f\"ERORRRERERE: {ve}\")"
   ]
  },
  {
   "cell_type": "code",
   "execution_count": 31,
   "metadata": {},
   "outputs": [
    {
     "name": "stderr",
     "output_type": "stream",
     "text": [
      "RDKit ERROR: [22:22:12] SMILES Parse Error: syntax error while parsing: sadsdad\n",
      "RDKit ERROR: [22:22:12] SMILES Parse Error: Failed parsing SMILES 'sadsdad' for input: 'sadsdad'\n",
      "[22:22:12] SMILES Parse Error: syntax error while parsing: sadsdad\n",
      "[22:22:12] SMILES Parse Error: Failed parsing SMILES 'sadsdad' for input: 'sadsdad'\n"
     ]
    }
   ],
   "source": [
    "safe_mfs(\"sadsdad\")"
   ]
  },
  {
   "cell_type": "code",
   "execution_count": null,
   "metadata": {},
   "outputs": [],
   "source": []
  }
 ],
 "metadata": {
  "kernelspec": {
   "display_name": "Python 3 (ipykernel)",
   "language": "python",
   "name": "python3"
  },
  "language_info": {
   "codemirror_mode": {
    "name": "ipython",
    "version": 3
   },
   "file_extension": ".py",
   "mimetype": "text/x-python",
   "name": "python",
   "nbconvert_exporter": "python",
   "pygments_lexer": "ipython3",
   "version": "3.7.12"
  }
 },
 "nbformat": 4,
 "nbformat_minor": 1
}
