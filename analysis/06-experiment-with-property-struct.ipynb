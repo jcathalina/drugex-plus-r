{
 "cells": [
  {
   "cell_type": "code",
   "execution_count": 6,
   "id": "4ea8bb63-07a2-42c7-9903-8a805522c185",
   "metadata": {},
   "outputs": [],
   "source": [
    "from src.drugexr.data_structs.property import Property\n",
    "import numpy as np"
   ]
  },
  {
   "cell_type": "code",
   "execution_count": 18,
   "id": "15151d6d-f099-447f-8d93-b94f9221f1b4",
   "metadata": {},
   "outputs": [],
   "source": [
    "def calc_physchem(mols):\n",
    "    prop_list = [\n",
    "        \"MW\",\n",
    "        \"logP\",\n",
    "        \"HBA\",\n",
    "        \"HBD\",\n",
    "        \"Rotable\",\n",
    "        \"Amide\",\n",
    "        \"Bridge\",\n",
    "        \"Hetero\",\n",
    "        \"Heavy\",\n",
    "        \"Spiro\",\n",
    "        \"FCSP3\",\n",
    "        \"Ring\",\n",
    "        \"Aliphatic\",\n",
    "        \"Aromatic\",\n",
    "        \"Saturated\",\n",
    "        \"HeteroR\",\n",
    "        \"TPSA\",\n",
    "        \"Valence\",\n",
    "        \"MR\",\n",
    "    ]\n",
    "    fps = np.zeros((len(mols), 23))\n",
    "    props = Property()\n",
    "    print(len(props.__dict__['prop_dict']))\n",
    "    for i, prop in enumerate(prop_list):\n",
    "        props.prop = prop\n",
    "        fps[:, i] = props(mols)\n",
    "    return fps"
   ]
  },
  {
   "cell_type": "code",
   "execution_count": 22,
   "id": "ad794946-baf0-4b7b-b7ff-78c28571d8b4",
   "metadata": {},
   "outputs": [
    {
     "data": {
      "text/plain": [
       "array([0., 0., 0., 0., 0., 0., 0., 0., 0., 0., 0., 0., 0., 0., 0., 0., 0.,\n",
       "       0., 0., 0., 0., 0., 0., 0., 0., 0., 0., 0.])"
      ]
     },
     "execution_count": 22,
     "metadata": {},
     "output_type": "execute_result"
    }
   ],
   "source": [
    "p(\"CN1C=NC2=C1C(=O)N(C(=O)N2C)C\")"
   ]
  },
  {
   "cell_type": "code",
   "execution_count": null,
   "id": "b071f78b-d09c-4222-8a46-0d2c82445e7d",
   "metadata": {},
   "outputs": [],
   "source": []
  }
 ],
 "metadata": {
  "kernelspec": {
   "display_name": "Python 3 (ipykernel)",
   "language": "python",
   "name": "python3"
  },
  "language_info": {
   "codemirror_mode": {
    "name": "ipython",
    "version": 3
   },
   "file_extension": ".py",
   "mimetype": "text/x-python",
   "name": "python",
   "nbconvert_exporter": "python",
   "pygments_lexer": "ipython3",
   "version": "3.7.12"
  }
 },
 "nbformat": 4,
 "nbformat_minor": 5
}
