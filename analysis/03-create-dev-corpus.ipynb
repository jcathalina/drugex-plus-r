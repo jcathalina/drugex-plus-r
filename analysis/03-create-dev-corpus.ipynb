{
 "cells": [
  {
   "cell_type": "markdown",
   "id": "64c8157e",
   "metadata": {},
   "source": [
    "### Creation of development ChEMBL corpus\n",
    "We create a smaller sampled ChEMBL corpus for the purpose of rapid iteration\n",
    "on the development on our model"
   ]
  },
  {
   "cell_type": "code",
   "execution_count": 1,
   "id": "44239886",
   "metadata": {},
   "outputs": [],
   "source": [
    "import pandas as pd\n",
    "\n",
    "from src.drugexr.config.constants import PROC_DATA_PATH"
   ]
  },
  {
   "cell_type": "code",
   "execution_count": 2,
   "id": "c5614ef3",
   "metadata": {},
   "outputs": [],
   "source": [
    "_SEED = 42\n",
    "_DEV_CORPUS_SIZE = 1_000"
   ]
  },
  {
   "cell_type": "code",
   "execution_count": 3,
   "id": "e12bd61e",
   "metadata": {},
   "outputs": [],
   "source": [
    "chembl_df = pd.read_table(filepath_or_buffer=PROC_DATA_PATH / \"chembl_corpus.txt\")"
   ]
  },
  {
   "cell_type": "code",
   "execution_count": 4,
   "id": "ee9d95ce",
   "metadata": {},
   "outputs": [],
   "source": [
    "dev_chembl_df = chembl_df.sample(n=_DEV_CORPUS_SIZE, random_state=_SEED, ignore_index=True)"
   ]
  },
  {
   "cell_type": "code",
   "execution_count": 5,
   "id": "83208736",
   "metadata": {},
   "outputs": [],
   "source": [
    "dev_chembl_df.to_csv(path_or_buf= PROC_DATA_PATH / f\"chembl_corpus_DEV_{_DEV_CORPUS_SIZE}.txt\", encoding=\"utf-8\", sep=\"\\t\" ,index=False)"
   ]
  },
  {
   "cell_type": "code",
   "execution_count": null,
   "id": "137c15c1",
   "metadata": {},
   "outputs": [],
   "source": []
  }
 ],
 "metadata": {
  "kernelspec": {
   "display_name": "Python 3 (ipykernel)",
   "language": "python",
   "name": "python3"
  },
  "language_info": {
   "codemirror_mode": {
    "name": "ipython",
    "version": 3
   },
   "file_extension": ".py",
   "mimetype": "text/x-python",
   "name": "python",
   "nbconvert_exporter": "python",
   "pygments_lexer": "ipython3",
   "version": "3.7.12"
  }
 },
 "nbformat": 4,
 "nbformat_minor": 5
}
